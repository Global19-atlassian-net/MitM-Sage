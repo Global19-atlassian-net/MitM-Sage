{
 "cells": [
  {
   "cell_type": "code",
   "execution_count": 1,
   "metadata": {},
   "outputs": [],
   "source": [
    "# import all the relevant bits from MitM\n",
    "import MitM\n",
    "from MitM import lmfdb, algebra"
   ]
  },
  {
   "cell_type": "code",
   "execution_count": 6,
   "metadata": {},
   "outputs": [],
   "source": [
    "# put the query together\n",
    "query = lmfdb.hmf_hecke.where(\n",
    "    algebra.HilbertNewforms.base_field_degree(int(2)), \n",
    "    algebra.HilbertNewforms.dimension(int(2)),\n",
    ").limit(until=int(10)).map(algebra.HeckeEigenvalues.heckePolynomial)"
   ]
  },
  {
   "cell_type": "code",
   "execution_count": 7,
   "metadata": {},
   "outputs": [
    {
     "data": {
      "text/plain": [
       "[x^2 + x + 7,\n",
       " x^2 + x + 4,\n",
       " x^2 + x + 7,\n",
       " x^2 + x + 2,\n",
       " x^2 + x + 4,\n",
       " x^2 + 12,\n",
       " x^2 + x + 1,\n",
       " x^2 + x + 4,\n",
       " x^2 + x + 2,\n",
       " x^2 + x + 1]"
      ]
     },
     "execution_count": 7,
     "metadata": {},
     "output_type": "execute_result"
    }
   ],
   "source": [
    "# and run it\n",
    "MitM.run(query)"
   ]
  },
  {
   "cell_type": "code",
   "execution_count": null,
   "metadata": {},
   "outputs": [],
   "source": []
  }
 ],
 "metadata": {
  "kernelspec": {
   "display_name": "SageMath 8.4",
   "language": "",
   "name": "sagemath"
  },
  "language_info": {
   "codemirror_mode": {
    "name": "ipython",
    "version": 2
   },
   "file_extension": ".py",
   "mimetype": "text/x-python",
   "name": "python",
   "nbconvert_exporter": "python",
   "pygments_lexer": "ipython2",
   "version": "2.7.15"
  }
 },
 "nbformat": 4,
 "nbformat_minor": 2
}
