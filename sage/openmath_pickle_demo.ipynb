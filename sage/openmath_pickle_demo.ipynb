{
 "cells": [
  {
   "cell_type": "markdown",
   "metadata": {},
   "source": [
    "# Generic system-near OpenMath serialization for Python: a demo"
   ]
  },
  {
   "cell_type": "markdown",
   "metadata": {},
   "source": [
    "## A first OpenMath serialization and deserialization: Sage integers"
   ]
  },
  {
   "cell_type": "code",
   "execution_count": 5,
   "metadata": {},
   "outputs": [],
   "source": [
    "from openmath.convert import to_python\n",
    "from openmath_pickle import to_openmath, test_openmath"
   ]
  },
  {
   "cell_type": "markdown",
   "metadata": {},
   "source": [
    "A Sage integer is serialized as an application of the function `sage.rings.integer.make_integer` applied on a (base 32?) string representation:"
   ]
  },
  {
   "cell_type": "code",
   "execution_count": 46,
   "metadata": {},
   "outputs": [
    {
     "data": {
      "text/plain": [
       "OMApplication(elem=OMSymbol(name='apply_function', cd='python', id=None, cdbase=None), arguments=[OMApplication(elem=OMSymbol(name='load_global', cd='python', id=None, cdbase=None), arguments=[OMString(string=u'sage.rings.integer.make_integer', id=None)], id=None, cdbase=None), OMString(string='1a', id=None)], id=None, cdbase=None)"
      ]
     },
     "execution_count": 46,
     "metadata": {},
     "output_type": "execute_result"
    }
   ],
   "source": [
    "to_openmath(42)"
   ]
  },
  {
   "cell_type": "markdown",
   "metadata": {},
   "source": [
    "For deserialization, we can use the plain openmath deserialization from [py-openmath](https://github.com/OpenMath/py-openmath):"
   ]
  },
  {
   "cell_type": "code",
   "execution_count": 24,
   "metadata": {},
   "outputs": [
    {
     "data": {
      "text/plain": [
       "1"
      ]
     },
     "execution_count": 24,
     "metadata": {},
     "output_type": "execute_result"
    }
   ],
   "source": [
    "to_python(_)"
   ]
  },
  {
   "cell_type": "markdown",
   "metadata": {},
   "source": [
    "This really is a Sage integer:"
   ]
  },
  {
   "cell_type": "code",
   "execution_count": 25,
   "metadata": {},
   "outputs": [
    {
     "data": {
      "text/plain": [
       "<type 'sage.rings.integer.Integer'>"
      ]
     },
     "execution_count": 25,
     "metadata": {},
     "output_type": "execute_result"
    }
   ],
   "source": [
    "type(_)"
   ]
  },
  {
   "cell_type": "markdown",
   "metadata": {},
   "source": [
    "Note that the above is a **system-near OpenMath serialization**. Deserializing to another system will further require **alignments** with its own constructors (a Rosetta stone). This will be the job of the Math-in-the-Middle engine."
   ]
  },
  {
   "cell_type": "markdown",
   "metadata": {},
   "source": [
    "This utility checks that serialization and deserialization gives an equal object of the same type:"
   ]
  },
  {
   "cell_type": "code",
   "execution_count": 21,
   "metadata": {},
   "outputs": [],
   "source": [
    "test_openmath(1)"
   ]
  },
  {
   "cell_type": "markdown",
   "metadata": {},
   "source": [
    "## Serialization of basic Python types"
   ]
  },
  {
   "cell_type": "markdown",
   "metadata": {},
   "source": [
    "For basic Python types, we get the standard OpenMath serialization:"
   ]
  },
  {
   "cell_type": "code",
   "execution_count": 6,
   "metadata": {},
   "outputs": [
    {
     "data": {
      "text/plain": [
       "OMInteger(integer=1, id=None)"
      ]
     },
     "execution_count": 6,
     "metadata": {},
     "output_type": "execute_result"
    }
   ],
   "source": [
    "to_openmath(1r)"
   ]
  },
  {
   "cell_type": "code",
   "execution_count": 4,
   "metadata": {},
   "outputs": [
    {
     "data": {
      "text/plain": [
       "OMString(string='coucou', id=None)"
      ]
     },
     "execution_count": 4,
     "metadata": {},
     "output_type": "execute_result"
    }
   ],
   "source": [
    "to_openmath('coucou')"
   ]
  },
  {
   "cell_type": "markdown",
   "metadata": {},
   "source": [
    "## Non trivial examples: Permutations groups and elements thereof"
   ]
  },
  {
   "cell_type": "code",
   "execution_count": 10,
   "metadata": {},
   "outputs": [],
   "source": [
    "G = DihedralGroup(3)"
   ]
  },
  {
   "cell_type": "code",
   "execution_count": 12,
   "metadata": {},
   "outputs": [
    {
     "data": {
      "text/plain": [
       "OMApplication(elem=OMSymbol(name='apply_function', cd='python', id=None, cdbase=None), arguments=[OMApplication(elem=OMSymbol(name='load_global', cd='python', id=None, cdbase=None), arguments=[OMString(string=u'sage.structure.unique_representation.unreduce', id=None)], id=None, cdbase=None), OMApplication(elem=OMSymbol(name='load_global', cd='python', id=None, cdbase=None), arguments=[OMString(string=u'sage.groups.perm_gps.permgroup_named.DihedralGroup', id=None)], id=None, cdbase=None), OMApplication(elem=OMSymbol(name='apply_function', cd='python', id=None, cdbase=None), arguments=[OMApplication(elem=OMSymbol(name='load_global', cd='python', id=None, cdbase=None), arguments=[OMString(string=u'__builtin__.tuple', id=None)], id=None, cdbase=None), OMApplication(elem=OMSymbol(name='list', cd='list1', id=None, cdbase=None), arguments=[OMApplication(elem=OMSymbol(name='apply_function', cd='python', id=None, cdbase=None), arguments=[OMApplication(elem=OMSymbol(name='load_global', cd='python', id=None, cdbase=None), arguments=[OMString(string=u'sage.rings.integer.make_integer', id=None)], id=None, cdbase=None), OMString(string='3', id=None)], id=None, cdbase=None)], id=None, cdbase=None)], id=None, cdbase=None), OMApplication(elem=OMSymbol(name='apply_function', cd='python', id=None, cdbase=None), arguments=[OMApplication(elem=OMSymbol(name='load_global', cd='python', id=None, cdbase=None), arguments=[OMString(string=u'__builtin__.dict', id=None)], id=None, cdbase=None), OMApplication(elem=OMSymbol(name='list', cd='list1', id=None, cdbase=None), arguments=[], id=None, cdbase=None)], id=None, cdbase=None)], id=None, cdbase=None)"
      ]
     },
     "execution_count": 12,
     "metadata": {},
     "output_type": "execute_result"
    }
   ],
   "source": [
    "to_openmath(G)"
   ]
  },
  {
   "cell_type": "code",
   "execution_count": 13,
   "metadata": {},
   "outputs": [
    {
     "data": {
      "text/plain": [
       "Dihedral group of order 6 as a permutation group"
      ]
     },
     "execution_count": 13,
     "metadata": {},
     "output_type": "execute_result"
    }
   ],
   "source": [
    "to_python(_)"
   ]
  },
  {
   "cell_type": "code",
   "execution_count": 15,
   "metadata": {},
   "outputs": [
    {
     "data": {
      "text/plain": [
       "(1,2,3)"
      ]
     },
     "execution_count": 15,
     "metadata": {},
     "output_type": "execute_result"
    }
   ],
   "source": [
    "g = G.an_element(); g"
   ]
  },
  {
   "cell_type": "code",
   "execution_count": 16,
   "metadata": {},
   "outputs": [
    {
     "data": {
      "text/plain": [
       "OMApplication(elem=OMSymbol(name='apply_function', cd='python', id=None, cdbase=None), arguments=[OMApplication(elem=OMSymbol(name='load_global', cd='python', id=None, cdbase=None), arguments=[OMString(string=u'sage.groups.perm_gps.permgroup_element.make_permgroup_element_v2', id=None)], id=None, cdbase=None), OMApplication(elem=OMSymbol(name='apply_function', cd='python', id=None, cdbase=None), arguments=[OMApplication(elem=OMSymbol(name='load_global', cd='python', id=None, cdbase=None), arguments=[OMString(string=u'sage.structure.unique_representation.unreduce', id=None)], id=None, cdbase=None), OMApplication(elem=OMSymbol(name='load_global', cd='python', id=None, cdbase=None), arguments=[OMString(string=u'sage.groups.perm_gps.permgroup_named.DihedralGroup', id=None)], id=None, cdbase=None), OMApplication(elem=OMSymbol(name='apply_function', cd='python', id=None, cdbase=None), arguments=[OMApplication(elem=OMSymbol(name='load_global', cd='python', id=None, cdbase=None), arguments=[OMString(string=u'__builtin__.tuple', id=None)], id=None, cdbase=None), OMApplication(elem=OMSymbol(name='list', cd='list1', id=None, cdbase=None), arguments=[OMApplication(elem=OMSymbol(name='apply_function', cd='python', id=None, cdbase=None), arguments=[OMApplication(elem=OMSymbol(name='load_global', cd='python', id=None, cdbase=None), arguments=[OMString(string=u'sage.rings.integer.make_integer', id=None)], id=None, cdbase=None), OMString(string='3', id=None)], id=None, cdbase=None)], id=None, cdbase=None)], id=None, cdbase=None), OMApplication(elem=OMSymbol(name='apply_function', cd='python', id=None, cdbase=None), arguments=[OMApplication(elem=OMSymbol(name='load_global', cd='python', id=None, cdbase=None), arguments=[OMString(string=u'__builtin__.dict', id=None)], id=None, cdbase=None), OMApplication(elem=OMSymbol(name='list', cd='list1', id=None, cdbase=None), arguments=[], id=None, cdbase=None)], id=None, cdbase=None)], id=None, cdbase=None), OMApplication(elem=OMSymbol(name='list', cd='list1', id=None, cdbase=None), arguments=[OMInteger(integer=2, id=None), OMInteger(integer=3, id=None), OMInteger(integer=1, id=None)], id=None, cdbase=None), OMApplication(elem=OMSymbol(name='apply_function', cd='python', id=None, cdbase=None), arguments=[OMApplication(elem=OMSymbol(name='load_global', cd='python', id=None, cdbase=None), arguments=[OMString(string=u'sage.structure.unique_representation.unreduce', id=None)], id=None, cdbase=None), OMApplication(elem=OMSymbol(name='load_global', cd='python', id=None, cdbase=None), arguments=[OMString(string=u'sage.sets.finite_enumerated_set.FiniteEnumeratedSet', id=None)], id=None, cdbase=None), OMApplication(elem=OMSymbol(name='apply_function', cd='python', id=None, cdbase=None), arguments=[OMApplication(elem=OMSymbol(name='load_global', cd='python', id=None, cdbase=None), arguments=[OMString(string=u'__builtin__.tuple', id=None)], id=None, cdbase=None), OMApplication(elem=OMSymbol(name='list', cd='list1', id=None, cdbase=None), arguments=[OMApplication(elem=OMSymbol(name='apply_function', cd='python', id=None, cdbase=None), arguments=[OMApplication(elem=OMSymbol(name='load_global', cd='python', id=None, cdbase=None), arguments=[OMString(string=u'__builtin__.tuple', id=None)], id=None, cdbase=None), OMApplication(elem=OMSymbol(name='list', cd='list1', id=None, cdbase=None), arguments=[OMInteger(integer=1, id=None), OMInteger(integer=2, id=None), OMInteger(integer=3, id=None)], id=None, cdbase=None)], id=None, cdbase=None)], id=None, cdbase=None)], id=None, cdbase=None), OMApplication(elem=OMSymbol(name='apply_function', cd='python', id=None, cdbase=None), arguments=[OMApplication(elem=OMSymbol(name='load_global', cd='python', id=None, cdbase=None), arguments=[OMString(string=u'__builtin__.dict', id=None)], id=None, cdbase=None), OMApplication(elem=OMSymbol(name='list', cd='list1', id=None, cdbase=None), arguments=[], id=None, cdbase=None)], id=None, cdbase=None)], id=None, cdbase=None)], id=None, cdbase=None)"
      ]
     },
     "execution_count": 16,
     "metadata": {},
     "output_type": "execute_result"
    }
   ],
   "source": [
    "to_openmath(g)"
   ]
  },
  {
   "cell_type": "code",
   "execution_count": 17,
   "metadata": {},
   "outputs": [
    {
     "data": {
      "text/plain": [
       "(1,2,3)"
      ]
     },
     "execution_count": 17,
     "metadata": {},
     "output_type": "execute_result"
    }
   ],
   "source": [
    "to_python(_)"
   ]
  },
  {
   "cell_type": "code",
   "execution_count": null,
   "metadata": {},
   "outputs": [],
   "source": []
  }
 ],
 "metadata": {
  "kernelspec": {
   "display_name": "SageMath 8.2.beta3",
   "language": "",
   "name": "sagemath"
  },
  "language_info": {
   "codemirror_mode": {
    "name": "ipython",
    "version": 2
   },
   "file_extension": ".py",
   "mimetype": "text/x-python",
   "name": "python",
   "nbconvert_exporter": "python",
   "pygments_lexer": "ipython2",
   "version": "2.7.14"
  }
 },
 "nbformat": 4,
 "nbformat_minor": 2
}
