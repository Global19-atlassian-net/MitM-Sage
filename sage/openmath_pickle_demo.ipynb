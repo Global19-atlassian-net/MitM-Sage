{
 "cells": [
  {
   "cell_type": "markdown",
   "metadata": {},
   "source": [
    "# Generic system-near OpenMath serialization for Python: a demo"
   ]
  },
  {
   "cell_type": "markdown",
   "metadata": {},
   "source": [
    "## Abstract\n",
    "This notebook demonstrates the OpenMath serialization for Python implemented\n",
    "in the [convert-pickle branch](https://github.com/OpenMath/py-openmath/tree/convert-pickle) of py-openmath.\n",
    "\n",
    "With it, any Python object that can be *pickled* (the standard serialization mechanism of Python) can be exported into an OpenMath expression tree that can be reevaluated back to the original object.\n",
    "\n",
    "Caveats:\n",
    "- The expression tree is very much system near: it describes how the object can be reconstructed from basic Python objects by application of standard Python functions.\n",
    "- This currently only works with Python 2 (and therefore Sage)\n",
    "- Some constructs are not yet implemented\n",
    "- Although there is nothing specific to Sage per se, several of the examples below are Sage specific\n",
    "\n",
    "## Try it\n",
    "\n",
    "### Simplest: run this notebook on [Binder@EGI](https://binderhub.fedcloud-tf.fedcloud.eu/v2/gh/OpenDreamKit/MitM-Sage/master?filepath=sage/openmath_pickle_demo.ipynb)\n",
    "\n",
    "### Install the required software\n",
    "\n",
    "    git clone https://github.com/OpenMath/py-openmath.git -b convert-pickle \n",
    "    cd py-openmath\n",
    "    pip install -e .     # Assuming pip is Python's 2 pip\n",
    "\n",
    "Variant for use in SageMath:\n",
    "\n",
    "    sage -pip install -e .                                 # Sage\n",
    "\n",
    "Download and open the notebook:\n",
    "\n",
    "    jupyter notebook openmath_pickle_demo.ipynb            # Python\n",
    "    sage -notebook jupyter openmath_pickle_demo.ipynb      # Sage\n",
    "    \n",
    "The `-e` means that `py-openmath` has been installed in editable mode; so you can edit the sources for customization."
   ]
  },
  {
   "cell_type": "markdown",
   "metadata": {},
   "source": [
    "## A first OpenMath serialization and deserialization: Sage integers"
   ]
  },
  {
   "cell_type": "code",
   "execution_count": 1,
   "metadata": {},
   "outputs": [],
   "source": [
    "from openmath.convert_pickle import to_openmath, to_python, test_openmath\n",
    "from openmath.encoder import encode_xml\n",
    "from lxml import etree"
   ]
  },
  {
   "cell_type": "markdown",
   "metadata": {},
   "source": [
    "A Sage integer is serialized as an application of the function `sage.rings.integer.make_integer` applied on a (base 32?) string representation:"
   ]
  },
  {
   "cell_type": "code",
   "execution_count": 2,
   "metadata": {},
   "outputs": [
    {
     "data": {
      "text/plain": [
       "OMApplication(elem=OMSymbol(name='make_integer', cd='sage.rings.integer', id=None, cdbase='http://python.org'), arguments=[OMBytes(bytes='1a', id=None)], id=None, cdbase=None)"
      ]
     },
     "execution_count": 2,
     "metadata": {},
     "output_type": "execute_result"
    }
   ],
   "source": [
    "o = to_openmath(42); o"
   ]
  },
  {
   "cell_type": "markdown",
   "metadata": {},
   "source": [
    "Pretty printing the OpenMath object"
   ]
  },
  {
   "cell_type": "code",
   "execution_count": 3,
   "metadata": {},
   "outputs": [
    {
     "name": "stdout",
     "output_type": "stream",
     "text": [
      "OMApplication(\n",
      "  elem=OMSymbol(name='make_integer', cd='sage.rings.integer', cdbase='http://python.org'),\n",
      "  arguments=[OMBytes(bytes='1a')])\n"
     ]
    }
   ],
   "source": [
    "print(o)"
   ]
  },
  {
   "cell_type": "markdown",
   "metadata": {},
   "source": [
    "Pretty printing the XML"
   ]
  },
  {
   "cell_type": "code",
   "execution_count": 4,
   "metadata": {},
   "outputs": [
    {
     "name": "stdout",
     "output_type": "stream",
     "text": [
      "<OMA xmlns=\"http://www.openmath.org/OpenMath\">\n",
      "  <OMS name=\"make_integer\" cd=\"sage.rings.integer\"/>\n",
      "  <OMB>MWE=</OMB>\n",
      "</OMA>\n",
      "\n"
     ]
    }
   ],
   "source": [
    "print(etree.tostring(encode_xml(o), pretty_print=True))"
   ]
  },
  {
   "cell_type": "markdown",
   "metadata": {},
   "source": [
    "For deserialization, we can use the plain openmath deserialization from [py-openmath](https://github.com/OpenMath/py-openmath):"
   ]
  },
  {
   "cell_type": "code",
   "execution_count": 5,
   "metadata": {},
   "outputs": [
    {
     "data": {
      "text/plain": [
       "42"
      ]
     },
     "execution_count": 5,
     "metadata": {},
     "output_type": "execute_result"
    }
   ],
   "source": [
    "to_python(o)"
   ]
  },
  {
   "cell_type": "markdown",
   "metadata": {},
   "source": [
    "This really is a Sage integer:"
   ]
  },
  {
   "cell_type": "code",
   "execution_count": 6,
   "metadata": {},
   "outputs": [
    {
     "data": {
      "text/plain": [
       "<type 'sage.rings.integer.Integer'>"
      ]
     },
     "execution_count": 6,
     "metadata": {},
     "output_type": "execute_result"
    }
   ],
   "source": [
    "type(_)"
   ]
  },
  {
   "cell_type": "markdown",
   "metadata": {},
   "source": [
    "Note that the above is a **system-near OpenMath serialization**. Deserializing to another system will further require **alignments** with its own constructors (a Rosetta stone). This will be the job of the Math-in-the-Middle engine."
   ]
  },
  {
   "cell_type": "markdown",
   "metadata": {},
   "source": [
    "This utility checks that serialization and deserialization gives an equal object of the same type:"
   ]
  },
  {
   "cell_type": "code",
   "execution_count": 7,
   "metadata": {},
   "outputs": [],
   "source": [
    "test_openmath(1)"
   ]
  },
  {
   "cell_type": "markdown",
   "metadata": {},
   "source": [
    "## Serialization of basic Python types"
   ]
  },
  {
   "cell_type": "markdown",
   "metadata": {},
   "source": [
    "For basic Python types, we get the standard OpenMath serialization:"
   ]
  },
  {
   "cell_type": "code",
   "execution_count": 8,
   "metadata": {},
   "outputs": [
    {
     "data": {
      "text/plain": [
       "OMInteger(integer=42, id=None)"
      ]
     },
     "execution_count": 8,
     "metadata": {},
     "output_type": "execute_result"
    }
   ],
   "source": [
    "to_openmath(42r)"
   ]
  },
  {
   "cell_type": "code",
   "execution_count": 9,
   "metadata": {},
   "outputs": [
    {
     "data": {
      "text/plain": [
       "OMSymbol(name='None', cd='__builtin__', id=None, cdbase='http://python.org')"
      ]
     },
     "execution_count": 9,
     "metadata": {},
     "output_type": "execute_result"
    }
   ],
   "source": [
    "to_openmath(None)"
   ]
  },
  {
   "cell_type": "code",
   "execution_count": 10,
   "metadata": {},
   "outputs": [
    {
     "name": "stdout",
     "output_type": "stream",
     "text": [
      "OMApplication(\n",
      "  elem=OMSymbol(name='list', cd='list1', cdbase='http://www.openmath.org/cd'),\n",
      "  arguments=[\n",
      "    OMInteger(integer=1),\n",
      "    OMInteger(integer=2),\n",
      "    OMInteger(integer=3)])\n"
     ]
    }
   ],
   "source": [
    "l = [1r,2r,3r]\n",
    "print(to_openmath(l))"
   ]
  },
  {
   "cell_type": "code",
   "execution_count": 11,
   "metadata": {},
   "outputs": [],
   "source": [
    "test_openmath(l)"
   ]
  },
  {
   "cell_type": "code",
   "execution_count": 12,
   "metadata": {},
   "outputs": [
    {
     "name": "stdout",
     "output_type": "stream",
     "text": [
      "OMApplication(\n",
      "  elem=OMSymbol(name='dict', cd='__builtin__', cdbase='http://python.org'),\n",
      "  arguments=[OMApplication(\n",
      "    elem=OMSymbol(name='list', cd='list1', cdbase='http://www.openmath.org/cd'),\n",
      "    arguments=[\n",
      "      OMApplication(\n",
      "        elem=OMSymbol(name='list', cd='list1', cdbase='http://www.openmath.org/cd'),\n",
      "        arguments=[\n",
      "          OMInteger(integer=1),\n",
      "          OMBytes(bytes='foo')]),\n",
      "      OMApplication(\n",
      "        elem=OMSymbol(name='list', cd='list1', cdbase='http://www.openmath.org/cd'),\n",
      "        arguments=[\n",
      "          OMBytes(bytes='bar'),\n",
      "          OMInteger(integer=2)])])])\n"
     ]
    }
   ],
   "source": [
    "d = {1r: 'foo', 'bar': 2r}\n",
    "print(to_openmath(d))"
   ]
  },
  {
   "cell_type": "code",
   "execution_count": 13,
   "metadata": {},
   "outputs": [],
   "source": [
    "for obj in [None, int(42), 'coucou', l, d]:\n",
    "    test_openmath(obj)"
   ]
  },
  {
   "cell_type": "markdown",
   "metadata": {},
   "source": [
    "In Python 2, non unicode strings are currently rendered as OMBytes"
   ]
  },
  {
   "cell_type": "code",
   "execution_count": 14,
   "metadata": {},
   "outputs": [
    {
     "data": {
      "text/plain": [
       "OMBytes(bytes='coucou', id=None)"
      ]
     },
     "execution_count": 14,
     "metadata": {},
     "output_type": "execute_result"
    }
   ],
   "source": [
    "to_openmath('coucou')"
   ]
  },
  {
   "cell_type": "markdown",
   "metadata": {},
   "source": [
    "## Non trivial examples: Permutations groups and elements thereof"
   ]
  },
  {
   "cell_type": "code",
   "execution_count": 15,
   "metadata": {},
   "outputs": [],
   "source": [
    "G = DihedralGroup(3)"
   ]
  },
  {
   "cell_type": "code",
   "execution_count": 16,
   "metadata": {},
   "outputs": [
    {
     "name": "stdout",
     "output_type": "stream",
     "text": [
      "OMApplication(\n",
      "  elem=OMSymbol(name='unreduce', cd='sage.structure.unique_representation', cdbase='http://python.org'),\n",
      "  arguments=[\n",
      "    OMSymbol(name='DihedralGroup', cd='sage.groups.perm_gps.permgroup_named', cdbase='http://python.org'),\n",
      "    OMApplication(\n",
      "      elem=OMSymbol(name='tuple_from_sequence', cd='openmath.convert_pickle', cdbase='http://python.org'),\n",
      "      arguments=[OMApplication(\n",
      "        elem=OMSymbol(name='make_integer', cd='sage.rings.integer', cdbase='http://python.org'),\n",
      "        arguments=[OMBytes(bytes='3')])]),\n",
      "    OMApplication(\n",
      "      elem=OMSymbol(name='dict', cd='__builtin__', cdbase='http://python.org'),\n",
      "      arguments=[OMApplication(\n",
      "        elem=OMSymbol(name='list', cd='list1', cdbase='http://www.openmath.org/cd'),\n",
      "        arguments=[])])])\n"
     ]
    }
   ],
   "source": [
    "print(to_openmath(G))"
   ]
  },
  {
   "cell_type": "code",
   "execution_count": 17,
   "metadata": {},
   "outputs": [
    {
     "data": {
      "text/plain": [
       "'coucou'"
      ]
     },
     "execution_count": 17,
     "metadata": {},
     "output_type": "execute_result"
    }
   ],
   "source": [
    "to_python(_)"
   ]
  },
  {
   "cell_type": "code",
   "execution_count": 18,
   "metadata": {},
   "outputs": [
    {
     "data": {
      "text/plain": [
       "(1,2,3)"
      ]
     },
     "execution_count": 18,
     "metadata": {},
     "output_type": "execute_result"
    }
   ],
   "source": [
    "g = G.an_element(); g"
   ]
  },
  {
   "cell_type": "code",
   "execution_count": 19,
   "metadata": {},
   "outputs": [
    {
     "name": "stdout",
     "output_type": "stream",
     "text": [
      "OMApplication(\n",
      "  elem=OMSymbol(name='make_permgroup_element_v2', cd='sage.groups.perm_gps.permgroup_element', cdbase='http://python.org'),\n",
      "  arguments=[\n",
      "    OMApplication(\n",
      "      elem=OMSymbol(name='unreduce', cd='sage.structure.unique_representation', cdbase='http://python.org'),\n",
      "      arguments=[\n",
      "        OMSymbol(name='DihedralGroup', cd='sage.groups.perm_gps.permgroup_named', cdbase='http://python.org'),\n",
      "        OMApplication(\n",
      "          elem=OMSymbol(name='tuple_from_sequence', cd='openmath.convert_pickle', cdbase='http://python.org'),\n",
      "          arguments=[OMApplication(\n",
      "            elem=OMSymbol(name='make_integer', cd='sage.rings.integer', cdbase='http://python.org'),\n",
      "            arguments=[OMBytes(bytes='3')])]),\n",
      "        OMApplication(\n",
      "          elem=OMSymbol(name='dict', cd='__builtin__', cdbase='http://python.org'),\n",
      "          arguments=[OMApplication(\n",
      "            elem=OMSymbol(name='list', cd='list1', cdbase='http://www.openmath.org/cd'),\n",
      "            arguments=[])])]),\n",
      "    OMApplication(\n",
      "      elem=OMSymbol(name='list', cd='list1', cdbase='http://www.openmath.org/cd'),\n",
      "      arguments=[\n",
      "        OMInteger(integer=2),\n",
      "        OMInteger(integer=3),\n",
      "        OMInteger(integer=1)]),\n",
      "    OMApplication(\n",
      "      elem=OMSymbol(name='unreduce', cd='sage.structure.unique_representation', cdbase='http://python.org'),\n",
      "      arguments=[\n",
      "        OMSymbol(name='FiniteEnumeratedSet', cd='sage.sets.finite_enumerated_set', cdbase='http://python.org'),\n",
      "        OMApplication(\n",
      "          elem=OMSymbol(name='tuple_from_sequence', cd='openmath.convert_pickle', cdbase='http://python.org'),\n",
      "          arguments=[OMApplication(\n",
      "            elem=OMSymbol(name='tuple_from_sequence', cd='openmath.convert_pickle', cdbase='http://python.org'),\n",
      "            arguments=[\n",
      "              OMInteger(integer=1),\n",
      "              OMInteger(integer=2),\n",
      "              OMInteger(integer=3)])]),\n",
      "        OMApplication(\n",
      "          elem=OMSymbol(name='dict', cd='__builtin__', cdbase='http://python.org'),\n",
      "          arguments=[OMApplication(\n",
      "            elem=OMSymbol(name='list', cd='list1', cdbase='http://www.openmath.org/cd'),\n",
      "            arguments=[])])])])\n"
     ]
    }
   ],
   "source": [
    "o = to_openmath(g)\n",
    "print(o)"
   ]
  },
  {
   "cell_type": "code",
   "execution_count": 20,
   "metadata": {},
   "outputs": [
    {
     "data": {
      "text/plain": [
       "(1,2,3)"
      ]
     },
     "execution_count": 20,
     "metadata": {},
     "output_type": "execute_result"
    }
   ],
   "source": [
    "to_python(o)"
   ]
  },
  {
   "cell_type": "code",
   "execution_count": null,
   "metadata": {},
   "outputs": [],
   "source": []
  }
 ],
 "metadata": {
  "kernelspec": {
   "display_name": "SageMath 8.3.beta4",
   "language": "",
   "name": "sagemath"
  },
  "language_info": {
   "codemirror_mode": {
    "name": "ipython",
    "version": 2
   },
   "file_extension": ".py",
   "mimetype": "text/x-python",
   "name": "python",
   "nbconvert_exporter": "python",
   "pygments_lexer": "ipython2",
   "version": "2.7.15"
  }
 },
 "nbformat": 4,
 "nbformat_minor": 2
}
