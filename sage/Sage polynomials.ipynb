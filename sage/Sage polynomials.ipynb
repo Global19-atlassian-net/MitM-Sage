{
 "cells": [
  {
   "cell_type": "markdown",
   "metadata": {},
   "source": [
    "## Sage representation of polynomials and their MitM import/export\n",
    "\n",
    "See also https://github.com/OpenDreamKit/MitM-Sage/issues/1 and https://github.com/OpenDreamKit/MitM-Sage/issues/2"
   ]
  },
  {
   "cell_type": "code",
   "execution_count": 48,
   "metadata": {},
   "outputs": [],
   "source": [
    "from openmath.convert_pickle import to_openmath, to_python, test_openmath\n",
    "from openmath.encoder import encode_xml, encode_bytes\n",
    "from openmath.decoder import decode_bytes\n",
    "from lxml import etree\n",
    "import pickle_improvements"
   ]
  },
  {
   "cell_type": "markdown",
   "metadata": {},
   "source": [
    "### PolynomialRing takes two arguments: the coefficient ring and the list of variable names\n",
    "\n",
    "Its full name is sage.rings.polynomial.polynomial_ring_constructor.PolynomialRing\n",
    "\n",
    "For the export, we obtain those components with the methods base_ring and variable_names.\n",
    "We import by applying PolynomialRing.\n",
    "We have PolynomialRing(R.base_ring(), R.variable_names()) == R"
   ]
  },
  {
   "cell_type": "code",
   "execution_count": 28,
   "metadata": {},
   "outputs": [],
   "source": [
    "R = PolynomialRing(Integers(),[\"x1\",\"x2\"])"
   ]
  },
  {
   "cell_type": "code",
   "execution_count": 32,
   "metadata": {},
   "outputs": [
    {
     "name": "stdout",
     "output_type": "stream",
     "text": [
      "OMApplication(\n",
      "  elem=OMSymbol(name='IntegerRing', cd='sage.rings.integer_ring', cdbase='http://python.org'),\n",
      "  arguments=[])\n"
     ]
    }
   ],
   "source": [
    "r = R.base_ring(); print(to_openmath(r))"
   ]
  },
  {
   "cell_type": "code",
   "execution_count": 33,
   "metadata": {},
   "outputs": [
    {
     "name": "stdout",
     "output_type": "stream",
     "text": [
      "OMApplication(\n",
      "  elem=OMSymbol(name='tuple_from_sequence', cd='openmath.convert_pickle', cdbase='http://python.org'),\n",
      "  arguments=[\n",
      "    OMString(string='x1'),\n",
      "    OMString(string='x2')])\n"
     ]
    }
   ],
   "source": [
    "vs = R.variable_names(); print(to_openmath(vs))"
   ]
  },
  {
   "cell_type": "code",
   "execution_count": 34,
   "metadata": {},
   "outputs": [
    {
     "data": {
      "text/plain": [
       "True"
      ]
     },
     "execution_count": 34,
     "metadata": {},
     "output_type": "execute_result"
    }
   ],
   "source": [
    "PolynomialRing(r, vs) == R"
   ]
  },
  {
   "cell_type": "markdown",
   "metadata": {},
   "source": [
    "### We use Polynomial as a constructor for polynomials. It takes two arguments: a polynomial and a coefficient dictionary\n",
    "\n",
    "We export a polynomials using the methods p.parent() and p.dict().\n",
    "We import a polynomial by applying the function lambda par,dict: par(dict)"
   ]
  },
  {
   "cell_type": "code",
   "execution_count": 36,
   "metadata": {},
   "outputs": [
    {
     "data": {
      "text/plain": [
       "3*x1*x2^4 + 5*x2^3"
      ]
     },
     "execution_count": 36,
     "metadata": {},
     "output_type": "execute_result"
    }
   ],
   "source": [
    "p = 3*R.0*R.1^4+5*R.1^3; p"
   ]
  },
  {
   "cell_type": "code",
   "execution_count": 53,
   "metadata": {},
   "outputs": [
    {
     "data": {
      "text/plain": [
       "Multivariate Polynomial Ring in x1, x2 over Integer Ring"
      ]
     },
     "execution_count": 53,
     "metadata": {},
     "output_type": "execute_result"
    }
   ],
   "source": [
    "par = p.parent(); par"
   ]
  },
  {
   "cell_type": "code",
   "execution_count": 54,
   "metadata": {},
   "outputs": [
    {
     "data": {
      "text/plain": [
       "{(0, 3): 5, (1, 4): 3}"
      ]
     },
     "execution_count": 54,
     "metadata": {},
     "output_type": "execute_result"
    }
   ],
   "source": [
    "dict = p.dict(); coeffs"
   ]
  },
  {
   "cell_type": "code",
   "execution_count": 55,
   "metadata": {
    "scrolled": true
   },
   "outputs": [
    {
     "data": {
      "text/plain": [
       "True"
      ]
     },
     "execution_count": 55,
     "metadata": {},
     "output_type": "execute_result"
    }
   ],
   "source": [
    "(lambda p,d: p(d))(par, dict) == p"
   ]
  },
  {
   "cell_type": "code",
   "execution_count": null,
   "metadata": {},
   "outputs": [],
   "source": [
    "The dictionaries are currently exported somewhat awkwardly. But we should fix convert_pickle() anyway."
   ]
  },
  {
   "cell_type": "code",
   "execution_count": 46,
   "metadata": {},
   "outputs": [
    {
     "name": "stdout",
     "output_type": "stream",
     "text": [
      "OMApplication(\n",
      "  elem=OMSymbol(name='dict', cd='__builtin__', cdbase='http://python.org'),\n",
      "  arguments=[OMApplication(\n",
      "    elem=OMSymbol(name='list', cd='list1', cdbase='http://www.openmath.org/cd'),\n",
      "    arguments=[\n",
      "      OMApplication(\n",
      "        elem=OMSymbol(name='list', cd='list1', cdbase='http://www.openmath.org/cd'),\n",
      "        arguments=[\n",
      "          OMApplication(\n",
      "            elem=OMSymbol(name='make_ETuple', cd='sage.rings.polynomial.polydict', cdbase='http://python.org'),\n",
      "            arguments=[\n",
      "              OMApplication(\n",
      "                elem=OMSymbol(name='dict', cd='__builtin__', cdbase='http://python.org'),\n",
      "                arguments=[OMApplication(\n",
      "                  elem=OMSymbol(name='list', cd='list1', cdbase='http://www.openmath.org/cd'),\n",
      "                  arguments=[OMApplication(\n",
      "                    elem=OMSymbol(name='list', cd='list1', cdbase='http://www.openmath.org/cd'),\n",
      "                    arguments=[\n",
      "                      OMInteger(integer=1),\n",
      "                      OMInteger(integer=3)])])]),\n",
      "              OMInteger(integer=2)]),\n",
      "          OMApplication(\n",
      "            elem=OMSymbol(name='make_integer', cd='sage.rings.integer', cdbase='http://python.org'),\n",
      "            arguments=[OMString(string='5')])]),\n",
      "      OMApplication(\n",
      "        elem=OMSymbol(name='list', cd='list1', cdbase='http://www.openmath.org/cd'),\n",
      "        arguments=[\n",
      "          OMApplication(\n",
      "            elem=OMSymbol(name='make_ETuple', cd='sage.rings.polynomial.polydict', cdbase='http://python.org'),\n",
      "            arguments=[\n",
      "              OMApplication(\n",
      "                elem=OMSymbol(name='dict', cd='__builtin__', cdbase='http://python.org'),\n",
      "                arguments=[OMApplication(\n",
      "                  elem=OMSymbol(name='list', cd='list1', cdbase='http://www.openmath.org/cd'),\n",
      "                  arguments=[\n",
      "                    OMApplication(\n",
      "                      elem=OMSymbol(name='list', cd='list1', cdbase='http://www.openmath.org/cd'),\n",
      "                      arguments=[\n",
      "                        OMInteger(integer=0),\n",
      "                        OMInteger(integer=1)]),\n",
      "                    OMApplication(\n",
      "                      elem=OMSymbol(name='list', cd='list1', cdbase='http://www.openmath.org/cd'),\n",
      "                      arguments=[\n",
      "                        OMInteger(integer=1),\n",
      "                        OMInteger(integer=4)])])]),\n",
      "              OMInteger(integer=2)]),\n",
      "          OMApplication(\n",
      "            elem=OMSymbol(name='make_integer', cd='sage.rings.integer', cdbase='http://python.org'),\n",
      "            arguments=[OMString(string='3')])])])])\n"
     ]
    }
   ],
   "source": [
    "print(to_openmath(coeffs))"
   ]
  }
 ],
 "metadata": {
  "kernelspec": {
   "display_name": "SageMath 8.3",
   "language": "",
   "name": "sagemath"
  },
  "language_info": {
   "codemirror_mode": {
    "name": "ipython",
    "version": 2
   },
   "file_extension": ".py",
   "mimetype": "text/x-python",
   "name": "python",
   "nbconvert_exporter": "python",
   "pygments_lexer": "ipython2",
   "version": "2.7.15"
  }
 },
 "nbformat": 4,
 "nbformat_minor": 2
}
