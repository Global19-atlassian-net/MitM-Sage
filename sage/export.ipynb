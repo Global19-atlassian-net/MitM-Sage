{
 "cells": [
  {
   "cell_type": "markdown",
   "metadata": {},
   "source": [
    "# Exporting Sage's semantic"
   ]
  },
  {
   "cell_type": "code",
   "execution_count": 1,
   "metadata": {},
   "outputs": [],
   "source": [
    "from sagetypes import Exporter\n",
    "e = Exporter()"
   ]
  },
  {
   "cell_type": "markdown",
   "metadata": {},
   "source": [
    "## Exporting semantic from categories"
   ]
  },
  {
   "cell_type": "code",
   "execution_count": 2,
   "metadata": {},
   "outputs": [],
   "source": [
    "e.harvest_categories()"
   ]
  },
  {
   "cell_type": "markdown",
   "metadata": {},
   "source": [
    "## Exporting semantic from a collection of Sage parents"
   ]
  },
  {
   "cell_type": "code",
   "execution_count": 3,
   "metadata": {},
   "outputs": [],
   "source": [
    "objects = [#TransitiveGroups(),    # Requires database gap which is not yet available on binder\n",
    "           #TransitiveGroup(4,1), \n",
    "           DihedralGroup(5),\n",
    "           Partitions(100), \n",
    "           QQ['x'],\n",
    "           QQ['x,y'],\n",
    "           NumberField(x^2-2, 'a')\n",
    "          ]\n",
    "\n",
    "for P in objects:\n",
    "    e.harvest_sage_object(P)\n",
    "    e.harvest_sage_object(P.an_element())"
   ]
  },
  {
   "cell_type": "code",
   "execution_count": 4,
   "metadata": {},
   "outputs": [],
   "source": [
    "e.save('sagetypes.json')"
   ]
  },
  {
   "cell_type": "markdown",
   "metadata": {},
   "source": [
    "Download the end result: [sagetypes.json](sagetypes.json)"
   ]
  }
 ],
 "metadata": {
  "kernelspec": {
   "display_name": "SageMath 8.3.rc2",
   "language": "",
   "name": "sagemath"
  },
  "language_info": {
   "codemirror_mode": {
    "name": "ipython",
    "version": 2
   },
   "file_extension": ".py",
   "mimetype": "text/x-python",
   "name": "python",
   "nbconvert_exporter": "python",
   "pygments_lexer": "ipython2",
   "version": "2.7.15"
  }
 },
 "nbformat": 4,
 "nbformat_minor": 2
}
